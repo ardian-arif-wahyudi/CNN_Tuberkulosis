{
  "cells": [
    {
      "cell_type": "markdown",
      "metadata": {
        "id": "e4AW0b7sdRaG"
      },
      "source": []
    },
    {
      "cell_type": "code",
      "execution_count": null,
      "metadata": {
        "id": "A_jGx5-wtucY"
      },
      "outputs": [],
      "source": [
        "import os\n",
        "import numpy as np\n",
        "import tensorflow as tf\n",
        "from tensorflow.keras.preprocessing.image import ImageDataGenerator\n",
        "from sklearn.metrics import classification_report, confusion_matrix, accuracy_score\n",
        "from tensorflow.keras.models import Sequential\n",
        "from tensorflow.keras.optimizers import RMSprop\n",
        "from tensorflow.keras.layers import Conv2D, MaxPooling2D, AveragePooling2D, Flatten, Dense, Dropout, BatchNormalization\n",
        "from keras.callbacks import EarlyStopping"
      ]
    },
    {
      "cell_type": "code",
      "execution_count": null,
      "metadata": {
        "colab": {
          "base_uri": "https://localhost:8080/"
        },
        "id": "941CtvVit3oZ",
        "outputId": "41af8f70-a26d-461e-b1bd-6c33709f104f"
      },
      "outputs": [
        {
          "name": "stdout",
          "output_type": "stream",
          "text": [
            "Mounted at /content/gdrive\n"
          ]
        }
      ],
      "source": [
        "# Mengatur folder path dari Google Drive\n",
        "from google.colab import drive\n",
        "drive.mount('/content/gdrive')"
      ]
    },
    {
      "cell_type": "code",
      "execution_count": null,
      "metadata": {
        "id": "Umpzx03ct883"
      },
      "outputs": [],
      "source": [
        "# Path ke dataset di Google Drive\n",
        "base_path = \"/content/gdrive/MyDrive/Dataset Tuberkulosis\"\n",
        "train_path = os.path.join(base_path, \"Train\")\n",
        "test_path = os.path.join(base_path, \"Test\")\n",
        "val_path = os.path.join(base_path, \"Val\")"
      ]
    },
    {
      "cell_type": "code",
      "execution_count": null,
      "metadata": {
        "colab": {
          "base_uri": "https://localhost:8080/"
        },
        "id": "9QxwGl9MuEAa",
        "outputId": "2d40de7c-b684-4d40-8f5e-8be6d3617d02"
      },
      "outputs": [
        {
          "name": "stdout",
          "output_type": "stream",
          "text": [
            "Found 5440 images belonging to 2 classes.\n",
            "Found 1020 images belonging to 2 classes.\n",
            "Found 340 images belonging to 2 classes.\n"
          ]
        }
      ],
      "source": [
        "# Inisialisasi generator untuk training data\n",
        "train_datagen = ImageDataGenerator(\n",
        "    rescale=1./255,            # Normalisasi nilai pixel menjadi 0-1\n",
        "    shear_range=0.1,           # Sudut potongan gambar\n",
        "    zoom_range=0.1,            # Rentang zoom gambar\n",
        ")\n",
        "\n",
        "\n",
        "\n",
        "train_generator = train_datagen.flow_from_directory(\n",
        "    train_path,\n",
        "    target_size=(224, 224),\n",
        "    batch_size=16,\n",
        "    class_mode='categorical'\n",
        ")\n",
        "\n",
        "# Inisialisasi generator untuk validation data\n",
        "test_datagen = ImageDataGenerator(rescale=1./255)\n",
        "test_generator = test_datagen.flow_from_directory(\n",
        "    test_path,\n",
        "    target_size=(224, 224),\n",
        "    batch_size=16,\n",
        "    class_mode='categorical',\n",
        "    shuffle=False\n",
        ")\n",
        "\n",
        "# Inisialisasi generator untuk validation data\n",
        "val_datagen = ImageDataGenerator(rescale=1./255)\n",
        "val_generator = val_datagen.flow_from_directory(\n",
        "    val_path,\n",
        "    target_size=(224, 224),\n",
        "    batch_size=16,\n",
        "    class_mode='categorical',\n",
        "    shuffle=False\n",
        ")"
      ]
    },
    {
      "cell_type": "code",
      "execution_count": null,
      "metadata": {
        "id": "zXNx_-bTv6Ph"
      },
      "outputs": [],
      "source": [
        "# Inisialisasi model\n",
        "model = Sequential()\n",
        "\n",
        "# Convolution layer dan Pooling Layer\n",
        "model.add(Conv2D(16, (3, 3), activation='relu', input_shape=(224, 224, 3)))\n",
        "model.add(MaxPooling2D((2, 2)))\n",
        "\n",
        "model.add(Conv2D(32, (3, 3), activation='relu'))\n",
        "model.add(MaxPooling2D((2, 2)))\n",
        "\n",
        "model.add(Conv2D(64, (3, 3), activation='relu'))\n",
        "model.add(MaxPooling2D((2, 2)))\n",
        "\n",
        "model.add(Conv2D(128, (3, 3), activation='relu'))\n",
        "model.add(MaxPooling2D((2, 2)))\n",
        "\n",
        "\n",
        "model.add(Flatten())\n",
        "model.add(Dropout(0.5))  # Dropout layer dengan rate 0.5\n",
        "model.add(Dense(256, activation='relu'))\n",
        "model.add(Dense(2, activation='softmax'))  # Output layer dengan 2 neuron menggunakan softmax"
      ]
    },
    {
      "cell_type": "code",
      "execution_count": null,
      "metadata": {
        "colab": {
          "background_save": true,
          "base_uri": "https://localhost:8080/"
        },
        "id": "qmdf-uVgxdzQ",
        "outputId": "a0e10f7d-b1dd-4323-d35f-fb863e465466"
      },
      "outputs": [
        {
          "name": "stdout",
          "output_type": "stream",
          "text": [
            "Epoch 1/30\n",
            "340/340 [==============================] - 2158s 6s/step - loss: 0.3005 - accuracy: 0.8660 - val_loss: 0.3314 - val_accuracy: 0.8569\n",
            "Epoch 2/30\n",
            "340/340 [==============================] - 117s 344ms/step - loss: 0.1564 - accuracy: 0.9381 - val_loss: 0.2935 - val_accuracy: 0.9000\n",
            "Epoch 3/30\n",
            "340/340 [==============================] - 118s 347ms/step - loss: 0.1261 - accuracy: 0.9493 - val_loss: 0.2250 - val_accuracy: 0.9108\n",
            "Epoch 4/30\n",
            "340/340 [==============================] - 114s 335ms/step - loss: 0.1323 - accuracy: 0.9574 - val_loss: 0.1759 - val_accuracy: 0.9500\n",
            "Epoch 5/30\n",
            "340/340 [==============================] - 114s 334ms/step - loss: 0.1020 - accuracy: 0.9623 - val_loss: 0.1081 - val_accuracy: 0.9657\n",
            "Epoch 6/30\n",
            "340/340 [==============================] - 114s 334ms/step - loss: 0.0830 - accuracy: 0.9726 - val_loss: 0.1201 - val_accuracy: 0.9618\n",
            "Epoch 7/30\n",
            "340/340 [==============================] - 114s 336ms/step - loss: 0.0839 - accuracy: 0.9750 - val_loss: 0.1439 - val_accuracy: 0.9578\n",
            "Epoch 8/30\n",
            "340/340 [==============================] - 115s 337ms/step - loss: 0.0720 - accuracy: 0.9756 - val_loss: 0.1188 - val_accuracy: 0.9745\n",
            "Epoch 9/30\n",
            "340/340 [==============================] - 117s 345ms/step - loss: 0.0741 - accuracy: 0.9757 - val_loss: 0.1285 - val_accuracy: 0.9676\n",
            "Epoch 10/30\n",
            "340/340 [==============================] - 115s 339ms/step - loss: 0.0757 - accuracy: 0.9792 - val_loss: 0.1134 - val_accuracy: 0.9667\n",
            "Epoch 11/30\n",
            "340/340 [==============================] - 116s 340ms/step - loss: 0.0674 - accuracy: 0.9800 - val_loss: 0.1267 - val_accuracy: 0.9706\n",
            "Epoch 12/30\n",
            "340/340 [==============================] - 114s 335ms/step - loss: 0.0603 - accuracy: 0.9825 - val_loss: 0.2501 - val_accuracy: 0.9431\n",
            "Epoch 13/30\n",
            "340/340 [==============================] - 114s 335ms/step - loss: 0.0542 - accuracy: 0.9842 - val_loss: 0.1266 - val_accuracy: 0.9706\n",
            "Epoch 14/30\n",
            "340/340 [==============================] - 116s 340ms/step - loss: 0.0505 - accuracy: 0.9835 - val_loss: 0.1519 - val_accuracy: 0.9618\n",
            "Epoch 15/30\n",
            "340/340 [==============================] - 113s 334ms/step - loss: 0.0564 - accuracy: 0.9833 - val_loss: 0.2614 - val_accuracy: 0.9431\n",
            "Epoch 16/30\n",
            "340/340 [==============================] - 114s 335ms/step - loss: 0.0528 - accuracy: 0.9849 - val_loss: 0.1046 - val_accuracy: 0.9676\n",
            "Epoch 17/30\n",
            "340/340 [==============================] - 112s 330ms/step - loss: 0.0555 - accuracy: 0.9860 - val_loss: 0.1819 - val_accuracy: 0.9608\n",
            "Epoch 18/30\n",
            "340/340 [==============================] - 116s 340ms/step - loss: 0.0510 - accuracy: 0.9866 - val_loss: 0.1286 - val_accuracy: 0.9686\n",
            "Epoch 19/30\n",
            "340/340 [==============================] - 116s 340ms/step - loss: 0.0685 - accuracy: 0.9858 - val_loss: 0.1480 - val_accuracy: 0.9725\n",
            "Epoch 20/30\n",
            "340/340 [==============================] - 115s 338ms/step - loss: 0.0456 - accuracy: 0.9871 - val_loss: 0.7590 - val_accuracy: 0.8725\n",
            "Epoch 21/30\n",
            "340/340 [==============================] - 116s 341ms/step - loss: 0.0524 - accuracy: 0.9855 - val_loss: 0.1486 - val_accuracy: 0.9676\n",
            "Epoch 22/30\n",
            "340/340 [==============================] - 114s 335ms/step - loss: 0.0495 - accuracy: 0.9882 - val_loss: 0.1432 - val_accuracy: 0.9775\n",
            "Epoch 23/30\n",
            "340/340 [==============================] - 114s 334ms/step - loss: 0.0447 - accuracy: 0.9882 - val_loss: 0.2606 - val_accuracy: 0.9618\n",
            "Epoch 24/30\n",
            "340/340 [==============================] - 115s 338ms/step - loss: 0.0521 - accuracy: 0.9879 - val_loss: 0.2280 - val_accuracy: 0.9775\n",
            "Epoch 25/30\n",
            "340/340 [==============================] - 116s 342ms/step - loss: 0.0420 - accuracy: 0.9910 - val_loss: 0.2021 - val_accuracy: 0.9667\n",
            "Epoch 26/30\n",
            "340/340 [==============================] - 114s 336ms/step - loss: 0.0452 - accuracy: 0.9899 - val_loss: 0.2123 - val_accuracy: 0.9735\n",
            "Epoch 27/30\n",
            "340/340 [==============================] - 113s 333ms/step - loss: 0.0398 - accuracy: 0.9897 - val_loss: 0.1109 - val_accuracy: 0.9725\n",
            "Epoch 28/30\n",
            "340/340 [==============================] - 114s 334ms/step - loss: 0.0623 - accuracy: 0.9849 - val_loss: 0.1850 - val_accuracy: 0.9667\n",
            "Epoch 29/30\n",
            "340/340 [==============================] - 115s 338ms/step - loss: 0.0407 - accuracy: 0.9881 - val_loss: 0.1246 - val_accuracy: 0.9755\n",
            "Epoch 30/30\n",
            "340/340 [==============================] - 115s 338ms/step - loss: 0.0349 - accuracy: 0.9912 - val_loss: 0.2707 - val_accuracy: 0.9735\n"
          ]
        }
      ],
      "source": [
        "# Menggunakan optimizer RMSprop dengan learning rate 0.01\n",
        "optimizer = RMSprop(learning_rate=0.001)\n",
        "\n",
        "# Kompilasi model dengan optimizer yang ditentukan\n",
        "model.compile(optimizer=optimizer, loss='binary_crossentropy', metrics=['accuracy'])\n",
        "\n",
        "# Melatih model dengan early stopping\n",
        "history = model.fit(train_generator, epochs=30, validation_data=test_generator)"
      ]
    },
    {
      "cell_type": "code",
      "execution_count": null,
      "metadata": {
        "id": "jfIjVZ2Oxjjk"
      },
      "outputs": [],
      "source": [
        "# Evaluasi model\n",
        "val_generator.reset()\n",
        "Y_val_pred = model.predict(val_generator)\n",
        "y_val_pred = np.argmax(Y_val_pred, axis=1)\n",
        "y_val_true = val_generator.classes"
      ]
    },
    {
      "cell_type": "code",
      "execution_count": 11,
      "metadata": {
        "colab": {
          "base_uri": "https://localhost:8080/"
        },
        "id": "u_0WHeqj0ZT5",
        "outputId": "25681698-3620-4d7a-e570-efa475008101"
      },
      "outputs": [
        {
          "output_type": "stream",
          "name": "stdout",
          "text": [
            "Confusion Matrix:\n",
            "[[168   2]\n",
            " [  5 165]]\n",
            "Classification Report:\n",
            "              precision    recall  f1-score   support\n",
            "\n",
            "      Normal       0.97      0.99      0.98       170\n",
            "Tuberkulosis       0.99      0.97      0.98       170\n",
            "\n",
            "    accuracy                           0.98       340\n",
            "   macro avg       0.98      0.98      0.98       340\n",
            "weighted avg       0.98      0.98      0.98       340\n",
            "\n",
            "Accuracy: 0.98\n"
          ]
        }
      ],
      "source": [
        "# Hitung confusion matrix\n",
        "conf_matrix = confusion_matrix(y_val_true, y_val_pred)\n",
        "print(\"Confusion Matrix:\")\n",
        "print(conf_matrix)\n",
        "\n",
        "# Hitung akurasi, presisi, recall, dan f1-score\n",
        "accuracy = accuracy_score(y_val_true, y_val_pred)\n",
        "report = classification_report(y_val_true, y_val_pred, target_names=['Normal', 'Tuberkulosis'])\n",
        "\n",
        "# Tambahkan akurasi ke dalam laporan klasifikasi\n",
        "report += f\"\\nAccuracy: {accuracy:.2f}\"\n",
        "\n",
        "# Tampilkan laporan klasifikasi yang sudah termasuk akurasi\n",
        "print(\"Classification Report:\")\n",
        "print(report)"
      ]
    },
    {
      "cell_type": "code",
      "execution_count": 12,
      "metadata": {
        "id": "axMElvMx-4le",
        "colab": {
          "base_uri": "https://localhost:8080/",
          "height": 905
        },
        "outputId": "374554a7-20dc-45cf-997b-9a910bc67074"
      },
      "outputs": [
        {
          "output_type": "execute_result",
          "data": {
            "text/plain": [
              "<matplotlib.legend.Legend at 0x7f4dd05f7640>"
            ]
          },
          "metadata": {},
          "execution_count": 12
        },
        {
          "output_type": "display_data",
          "data": {
            "text/plain": [
              "<Figure size 640x480 with 1 Axes>"
            ],
            "image/png": "[encoded data removed]"
          },
          "metadata": {}
        },
        {
          "output_type": "display_data",
          "data": {
            "text/plain": [
              "<Figure size 640x480 with 1 Axes>"
            ],
            "image/png": "[encoded data removed]"
          },
          "metadata": {}
        }
      ],
      "source": [
        "import matplotlib.pyplot as plt\n",
        "import numpy as np\n",
        "\n",
        "# Plot accuracy dan loss\n",
        "plt.plot(history.history['accuracy'], label='accuracy')\n",
        "plt.plot(history.history['val_accuracy'], label='val_accuracy')\n",
        "plt.xlabel('Epoch')\n",
        "plt.ylabel('Accuracy')\n",
        "plt.ylim([0, 1])\n",
        "plt.legend(loc='lower right')\n",
        "\n",
        "# Menambahkan plot loss\n",
        "plt.figure()  # Membuat figure baru untuk plot loss\n",
        "plt.plot(history.history['loss'], label='loss')\n",
        "plt.plot(history.history['val_loss'], label='val_loss')\n",
        "plt.xlabel('Epoch')\n",
        "plt.ylabel('Loss')\n",
        "plt.legend(loc='upper right')"
      ]
    },
    {
      "cell_type": "code",
      "execution_count": 13,
      "metadata": {
        "id": "DZnb6UvCy2A9",
        "colab": {
          "base_uri": "https://localhost:8080/"
        },
        "outputId": "50705e10-e71d-45c2-9ed3-71ac8c1ea0de"
      },
      "outputs": [
        {
          "output_type": "stream",
          "name": "stdout",
          "text": [
            "Model berhasil disimpan sebagai model.tflite di Google Drive.\n"
          ]
        }
      ],
      "source": [
        "# Simpan model ke file .tflite\n",
        "converter = tf.lite.TFLiteConverter.from_keras_model(model)\n",
        "tflite_model = converter.convert()\n",
        "tflite_path = \"/content/gdrive/MyDrive/Dataset Tuberkulosis/modelkonfigurasi2.tflite\"\n",
        "with open(tflite_path, 'wb') as f:\n",
        "    f.write(tflite_model)\n",
        "\n",
        "print(\"Model berhasil disimpan sebagai model.tflite di Google Drive.\")"
      ]
    }
  ],
  "metadata": {
    "accelerator": "GPU",
    "colab": {
      "provenance": []
    },
    "kernelspec": {
      "display_name": "Python 3",
      "name": "python3"
    },
    "language_info": {
      "name": "python"
    }
  },
  "nbformat": 4,
  "nbformat_minor": 0
}